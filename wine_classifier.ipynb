{
 "cells": [
  {
   "cell_type": "markdown",
   "metadata": {},
   "source": [
    "# We will use classification method KNN and Decision Tree to classify wine type based on their features/characteristics"
   ]
  },
  {
   "cell_type": "markdown",
   "metadata": {},
   "source": [
    "# KNN Classification"
   ]
  },
  {
   "cell_type": "markdown",
   "metadata": {
    "id": "Zm9Y3Cq3F1En"
   },
   "source": [
    "**Importing all the required libraries.**"
   ]
  },
  {
   "cell_type": "code",
   "execution_count": 87,
   "metadata": {
    "id": "yirfjNb9F1Eo"
   },
   "outputs": [],
   "source": [
    "from sklearn.model_selection import train_test_split\n",
    "from sklearn.preprocessing import MinMaxScaler, Normalizer\n",
    "import matplotlib.pyplot as plt\n",
    "import numpy as np"
   ]
  },
  {
   "cell_type": "markdown",
   "metadata": {
    "id": "YtKQvs9niurN"
   },
   "source": [
    "**Importing Dataset**"
   ]
  },
  {
   "cell_type": "markdown",
   "metadata": {
    "id": "T92FPNbHi_BX"
   },
   "source": [
    "We are going to be using the wine toy dataset from SciKit Learn"
   ]
  },
  {
   "cell_type": "code",
   "execution_count": 88,
   "metadata": {
    "id": "f9bNpHrOiqEE"
   },
   "outputs": [
    {
     "name": "stdout",
     "output_type": "stream",
     "text": [
      "(178, 13)\n",
      "(178,)\n",
      ".. _wine_dataset:\n",
      "\n",
      "Wine recognition dataset\n",
      "------------------------\n",
      "\n",
      "**Data Set Characteristics:**\n",
      "\n",
      "    :Number of Instances: 178 (50 in each of three classes)\n",
      "    :Number of Attributes: 13 numeric, predictive attributes and the class\n",
      "    :Attribute Information:\n",
      " \t\t- Alcohol\n",
      " \t\t- Malic acid\n",
      " \t\t- Ash\n",
      "\t\t- Alcalinity of ash  \n",
      " \t\t- Magnesium\n",
      "\t\t- Total phenols\n",
      " \t\t- Flavanoids\n",
      " \t\t- Nonflavanoid phenols\n",
      " \t\t- Proanthocyanins\n",
      "\t\t- Color intensity\n",
      " \t\t- Hue\n",
      " \t\t- OD280/OD315 of diluted wines\n",
      " \t\t- Proline\n",
      "\n",
      "    - class:\n",
      "            - class_0\n",
      "            - class_1\n",
      "            - class_2\n",
      "\t\t\n",
      "    :Summary Statistics:\n",
      "    \n",
      "    ============================= ==== ===== ======= =====\n",
      "                                   Min   Max   Mean     SD\n",
      "    ============================= ==== ===== ======= =====\n",
      "    Alcohol:                      11.0  14.8    13.0   0.8\n",
      "    Malic Acid:                   0.74  5.80    2.34  1.12\n",
      "    Ash:                          1.36  3.23    2.36  0.27\n",
      "    Alcalinity of Ash:            10.6  30.0    19.5   3.3\n",
      "    Magnesium:                    70.0 162.0    99.7  14.3\n",
      "    Total Phenols:                0.98  3.88    2.29  0.63\n",
      "    Flavanoids:                   0.34  5.08    2.03  1.00\n",
      "    Nonflavanoid Phenols:         0.13  0.66    0.36  0.12\n",
      "    Proanthocyanins:              0.41  3.58    1.59  0.57\n",
      "    Colour Intensity:              1.3  13.0     5.1   2.3\n",
      "    Hue:                          0.48  1.71    0.96  0.23\n",
      "    OD280/OD315 of diluted wines: 1.27  4.00    2.61  0.71\n",
      "    Proline:                       278  1680     746   315\n",
      "    ============================= ==== ===== ======= =====\n",
      "\n",
      "    :Missing Attribute Values: None\n",
      "    :Class Distribution: class_0 (59), class_1 (71), class_2 (48)\n",
      "    :Creator: R.A. Fisher\n",
      "    :Donor: Michael Marshall (MARSHALL%PLU@io.arc.nasa.gov)\n",
      "    :Date: July, 1988\n",
      "\n",
      "This is a copy of UCI ML Wine recognition datasets.\n",
      "https://archive.ics.uci.edu/ml/machine-learning-databases/wine/wine.data\n",
      "\n",
      "The data is the results of a chemical analysis of wines grown in the same\n",
      "region in Italy by three different cultivators. There are thirteen different\n",
      "measurements taken for different constituents found in the three types of\n",
      "wine.\n",
      "\n",
      "Original Owners: \n",
      "\n",
      "Forina, M. et al, PARVUS - \n",
      "An Extendible Package for Data Exploration, Classification and Correlation. \n",
      "Institute of Pharmaceutical and Food Analysis and Technologies,\n",
      "Via Brigata Salerno, 16147 Genoa, Italy.\n",
      "\n",
      "Citation:\n",
      "\n",
      "Lichman, M. (2013). UCI Machine Learning Repository\n",
      "[https://archive.ics.uci.edu/ml]. Irvine, CA: University of California,\n",
      "School of Information and Computer Science. \n",
      "\n",
      ".. topic:: References\n",
      "\n",
      "  (1) S. Aeberhard, D. Coomans and O. de Vel, \n",
      "  Comparison of Classifiers in High Dimensional Settings, \n",
      "  Tech. Rep. no. 92-02, (1992), Dept. of Computer Science and Dept. of  \n",
      "  Mathematics and Statistics, James Cook University of North Queensland. \n",
      "  (Also submitted to Technometrics). \n",
      "\n",
      "  The data was used with many others for comparing various \n",
      "  classifiers. The classes are separable, though only RDA \n",
      "  has achieved 100% correct classification. \n",
      "  (RDA : 100%, QDA 99.4%, LDA 98.9%, 1NN 96.1% (z-transformed data)) \n",
      "  (All results using the leave-one-out technique) \n",
      "\n",
      "  (2) S. Aeberhard, D. Coomans and O. de Vel, \n",
      "  \"THE CLASSIFICATION PERFORMANCE OF RDA\" \n",
      "  Tech. Rep. no. 92-01, (1992), Dept. of Computer Science and Dept. of \n",
      "  Mathematics and Statistics, James Cook University of North Queensland. \n",
      "  (Also submitted to Journal of Chemometrics).\n",
      "\n"
     ]
    }
   ],
   "source": [
    "from sklearn.datasets import load_wine\n",
    "wine_data = load_wine()\n",
    "print(wine_data.data.shape)\n",
    "print(wine_data.target.shape)\n",
    "print(wine_data.DESCR)"
   ]
  },
  {
   "cell_type": "markdown",
   "metadata": {
    "id": "NrNrFJWjF1Eo"
   },
   "source": [
    "**Data Processing Function**\n"
   ]
  },
  {
   "cell_type": "code",
   "execution_count": 89,
   "metadata": {
    "id": "6lZCcOaSF1Eo"
   },
   "outputs": [],
   "source": [
    "def data_processing(wine_data):\n",
    "    # Split the dataset into training set and temporary set\n",
    "    X_train, X_temp, y_train, y_temp = train_test_split(wine_data.data, wine_data.target, test_size=0.2, random_state=0)\n",
    "\n",
    "    # Split the temporary set into validation set and test set\n",
    "    X_test, X_val, y_test, y_val = train_test_split(X_temp, y_temp, test_size=0.5, random_state=0)\n",
    "    ##############################################\n",
    "    # X_train, y_train, X_val, y_val, X_test, y_test = data_processing(wine_data)\n",
    "    \n",
    "\n",
    "    # Convert all datasets into numpy arrays\n",
    "    X_train = np.array(X_train)\n",
    "    X_val = np.array(X_val)\n",
    "    X_test = np.array(X_test)\n",
    "\n",
    "    y_train = np.array(y_train)\n",
    "    y_val = np.array(y_val)\n",
    "    y_test = np.array(y_test)\n",
    "\n",
    "    return X_train, y_train, X_val, y_val, X_test, y_test"
   ]
  },
  {
   "cell_type": "markdown",
   "metadata": {
    "id": "gT_mV5ZmF1Eo"
   },
   "source": [
    "**Data Processing With Transformations (MinMax and Normalization) Function**  "
   ]
  },
  {
   "cell_type": "code",
   "execution_count": 90,
   "metadata": {
    "id": "36z1oLEGF1Ep"
   },
   "outputs": [],
   "source": [
    "def data_processing_with_transformation(wine_data, do_minmax_scaling=True, do_normalization=False):\n",
    "    # Split the dataset into training set and temporary set\n",
    "    X_train, X_temp, y_train, y_temp = train_test_split(wine_data.data, wine_data.target, test_size=0.2, random_state=0)\n",
    "    \n",
    "    # Split the temporary set into validation set and test set\n",
    "    X_test, X_val, y_test, y_val = train_test_split(X_temp, y_temp, test_size=0.5, random_state=0)\n",
    "    ##############################################\n",
    "    # Xtrain, ytrain, Xval, yval, Xtest, ytest = data_processing_with_transformation(wine_data, do_minmax_scaling=False, do_normalization=True)\n",
    "    \n",
    "\n",
    "    # Convert all datasets into numpy arrays\n",
    "    X_train = np.array(X_train)\n",
    "    X_val = np.array(X_val)\n",
    "    X_test = np.array(X_test)\n",
    "\n",
    "    y_train = np.array(y_train)\n",
    "    y_val = np.array(y_val)\n",
    "    y_test = np.array(y_test)\n",
    "\n",
    "    # Min-Max scaling\n",
    "    if do_minmax_scaling:\n",
    "        scaler = MinMaxScaler()\n",
    "        X_train = scaler.fit_transform(X_train)\n",
    "        X_val = scaler.transform(X_val)\n",
    "        X_test = scaler.transform(X_test)\n",
    "\n",
    "    # Normalization\n",
    "    if do_normalization:\n",
    "        normalizer = Normalizer()\n",
    "        X_train = normalizer.fit_transform(X_train)\n",
    "        X_val = normalizer.transform(X_val)\n",
    "        X_test = normalizer.transform(X_test)\n",
    "\n",
    "    return X_train, y_train, X_val, y_val, X_test, y_test"
   ]
  },
  {
   "cell_type": "markdown",
   "metadata": {
    "id": "mCmRfvqDF1Ep"
   },
   "source": [
    "**Compute L2 Distances Function**"
   ]
  },
  {
   "cell_type": "markdown",
   "metadata": {
    "id": "9ONIdMBrF1Ep"
   },
   "source": [
    "The L2 distance, or Euclidean distance, between two vectors `x` and `x'` is given by:\n",
    "\n",
    "$$\n",
    "d(x, x') = \\left\\| x - x' \\right\\|_2 = \\sqrt{\\sum_{i} (x_i - x'_i)^2}\n",
    "$$\n",
    "\n",
    "Where:\n",
    "\n",
    "- $d(x, x')$ is the L2 distance between vectors `x` and `x'`\n",
    "- $x_i$ is the ith element of vector `x`\n",
    "- $x'_i$ is the ith element of vector `x'`\n",
    "- The sum is over all elements of the vectors\n",
    "\n",
    "The square root of the sum of the squared differences of the corresponding elements of the vectors gives the L2 distance."
   ]
  },
  {
   "cell_type": "code",
   "execution_count": 91,
   "metadata": {
    "id": "cfCrUP0SF1Ep"
   },
   "outputs": [],
   "source": [
    "def compute_l2_distances(Xtrain, X):\n",
    "    \"\"\"\n",
    "    Compute the distance between each test point in X and each training point\n",
    "    in Xtrain.\n",
    "    Inputs:\n",
    "    - Xtrain: A numpy array of shape (num_train, D) containing training data\n",
    "    - X: A numpy array of shape (num_test, D) containing test data.\n",
    "    Returns:\n",
    "    - dists: A numpy array of shape (num_test, num_train) where dists[i, j]\n",
    "      is the Euclidean distance between the ith test point and the jth training\n",
    "      point.\n",
    "    \"\"\"\n",
    "    num_test = X.shape[0]\n",
    "    num_train = Xtrain.shape[0]\n",
    "    dists = np.zeros((num_test, num_train))\n",
    "\n",
    "    for i in range(num_test):\n",
    "        for j in range(num_train):\n",
    "            dists[i, j] = np.sqrt(np.sum((X[i] - Xtrain[j]) ** 2))\n",
    "    return dists"
   ]
  },
  {
   "cell_type": "markdown",
   "metadata": {
    "id": "SeuRWM4NF1Eq"
   },
   "source": [
    ":**Compute Cosine Distances Function**\n",
    "\n",
    "The cosine distance between two vectors `x` and `x'` is given by:\n",
    "\n",
    "$$\n",
    "d(x, x') = \n",
    "\\begin{cases} \n",
    "1 & \\text{if } \\|x\\|_2 = 0 \\text{ or } \\|x'\\|_2 = 0 \\\\\n",
    "1 - \\frac{x \\cdot x'}{\\|x\\|_2 \\|x'\\|_2} & \\text{otherwise}\n",
    "\\end{cases}\n",
    "$$\n",
    "\n",
    "Where:\n",
    "\n",
    "- $d(x, x')$ is the cosine distance between vectors `x` and `x'`\n",
    "- $x \\cdot x'$ is the dot product of vectors `x` and `x'`\n",
    "- $\\|x\\|_2$ and $\\|x'\\|_2$ are the L2 norms (or magnitudes) of the vectors `x` and `x'`\n",
    "- The condition checks if either norm is zero. If so, it returns 1, otherwise it calculates the cosine distance.\n"
   ]
  },
  {
   "cell_type": "code",
   "execution_count": 92,
   "metadata": {
    "id": "dwN3Dl6QF1Eq"
   },
   "outputs": [],
   "source": [
    "def compute_cosine_distances(Xtrain, X):\n",
    "    \"\"\"\n",
    "    Compute the distance between each test point in X and each training point\n",
    "    in Xtrain.\n",
    "    Inputs:\n",
    "    - Xtrain: A numpy array of shape (num_train, D) containing training data\n",
    "    - X: A numpy array of shape (num_test, D) containing test data.\n",
    "    Returns:\n",
    "    - dists: A numpy array of shape (num_test, num_train) where dists[i, j]\n",
    "      is the Cosine distance between the ith test point and the jth training\n",
    "      point.\n",
    "    \"\"\"\n",
    "    num_test = X.shape[0]\n",
    "    num_train = Xtrain.shape[0]\n",
    "\n",
    "    # Compute the L2 norms of each test point and training point\n",
    "    test_L2Norms = np.linalg.norm(X, ord=2, axis=1, keepdims=True)\n",
    "    train_L2Norms = np.linalg.norm(Xtrain, ord=2, axis=1)\n",
    "\n",
    "    # Compute the cross terms between X and Xtrain\n",
    "    cross_terms = np.dot(X, Xtrain.T)\n",
    "\n",
    "    # Compute the pairwise distances using the L2 distance formula and check for L2 norms that are zero\n",
    "    dists = np.where((test_L2Norms == 0) | (train_L2Norms == 0), 1, 1 - cross_terms / (test_L2Norms[:, None] * train_L2Norms))\n",
    "    return dists"
   ]
  },
  {
   "cell_type": "markdown",
   "metadata": {
    "id": "OIEO1bCOF1Eq"
   },
   "source": [
    "**Complete Predict Labels Function**"
   ]
  },
  {
   "cell_type": "code",
   "execution_count": 93,
   "metadata": {
    "id": "Pf6-NFfiF1Er"
   },
   "outputs": [],
   "source": [
    "def predict_labels(k, ytrain, dists):\n",
    "    \"\"\"\n",
    "    Given a matrix of distances between test points and training points,\n",
    "    predict a label for each test point.\n",
    "    Inputs:\n",
    "    - k: The number of nearest neighbors used for prediction.\n",
    "    - ytrain: A numpy array of shape (num_train,) where ytrain[i] is the label\n",
    "      of the ith training point.\n",
    "    - dists: A numpy array of shape (num_test, num_train) where dists[i, j]\n",
    "      gives the distance betwen the ith test point and the jth training point.\n",
    "    Returns:\n",
    "    - ypred: A numpy array of shape (num_test,) containing predicted labels for the\n",
    "      test data, where y[i] is the predicted label for the test point X[i].\n",
    "    \"\"\"\n",
    "    num_test = dists.shape[0]\n",
    "    ypred = np.zeros(num_test)\n",
    "\n",
    "    for i in range(num_test):\n",
    "        # Find the k nearest neighbors for the current test point\n",
    "        k_nearest_indices = np.argsort(dists[i])[:k]\n",
    "        k_nearest_labels = ytrain[k_nearest_indices]\n",
    "\n",
    "        # Count the votes for each label for each test point\n",
    "        label_counts = np.bincount(k_nearest_labels.ravel())\n",
    "\n",
    "        # Determine the most popular label\n",
    "        ypred[i] = np.argmax(label_counts)\n",
    "    return ypred"
   ]
  },
  {
   "cell_type": "markdown",
   "metadata": {
    "id": "s9Zk8w6gF1Er"
   },
   "source": [
    "**Compute Error Rate Function**"
   ]
  },
  {
   "cell_type": "code",
   "execution_count": 94,
   "metadata": {
    "id": "XSmILXe3F1Er"
   },
   "outputs": [],
   "source": [
    "def compute_error_rate(y, ypred):\n",
    "    \"\"\"\n",
    "    Compute the error rate of prediction based on the true labels.\n",
    "    Inputs:\n",
    "    - y: A numpy array with of shape (num_test,) where y[i] is the true label\n",
    "      of the ith test point.\n",
    "    - ypred: A numpy array with of shape (num_test,) where ypred[i] is the\n",
    "      prediction of the ith test point.\n",
    "    Returns:\n",
    "    - err: The error rate of prediction (scalar).\n",
    "    \"\"\"\n",
    "    num_test = y.shape[0]\n",
    "    num_mistakes = np.sum(np.not_equal(y, ypred))\n",
    "    err = num_mistakes / num_test\n",
    "    return err"
   ]
  },
  {
   "cell_type": "markdown",
   "metadata": {
    "id": "R1LODccXF1Er"
   },
   "source": [
    "**Find Best k Function**"
   ]
  },
  {
   "cell_type": "code",
   "execution_count": 95,
   "metadata": {
    "id": "5b5UIrpmF1Es"
   },
   "outputs": [],
   "source": [
    "def find_best_k(K, ytrain, dists, yval):\n",
    "    \"\"\"\n",
    "    Find best k according to validation error rate.\n",
    "    Inputs:\n",
    "    - K: A list of ks.\n",
    "    - ytrain: A numpy array of shape (num_train,) where ytrain[i] is the label\n",
    "      of the ith training point.\n",
    "    - dists: A numpy array of shape (num_test, num_train) where dists[i, j]\n",
    "      is the distance between the ith test point and the jth training\n",
    "      point.\n",
    "    - yval: A numpy array with of shape (num_val,) where y[i] is the true label\n",
    "      of the ith validation point.**TODO**: Complete compute_l2_distances( ) function\n",
    "    Returns:\n",
    "    - best_k: The k with the lowest error rate.\n",
    "    - validation_error: A list of error rate of different ks in K.\n",
    "    - best_err: The lowest error rate we get from all ks in K.\n",
    "    \"\"\"\n",
    "    best_k = None\n",
    "    best_err = float('inf')\n",
    "    validation_error = np.zeros(len(K))\n",
    "\n",
    "    # for i, k in enumerate(K):\n",
    "    #     ypred = predict_labels(k, ytrain, dists)\n",
    "    #     err = compute_error_rate(yval, ypred)\n",
    "    #     validation_error[i] = err\n",
    "    for i in range(len(K)):\n",
    "      k = K[i]\n",
    "      ypred = predict_labels(k, ytrain, dists)\n",
    "      err = compute_error_rate(yval, ypred)\n",
    "      validation_error[i] = err\n",
    "      if err < best_err:\n",
    "          best_err = err\n",
    "          best_k = k\n",
    "    return best_k, validation_error, best_err"
   ]
  },
  {
   "cell_type": "markdown",
   "metadata": {
    "id": "aYBT086kF1Es"
   },
   "source": [
    "### Calculate 4-nearest neighbor error. We use data processing without transformation here."
   ]
  },
  {
   "cell_type": "code",
   "execution_count": 96,
   "metadata": {
    "colab": {
     "base_uri": "https://localhost:8080/"
    },
    "id": "Dnior7X2F1Et",
    "outputId": "e6f4cec4-4340-4efe-9713-cf7b4f75a7f2"
   },
   "outputs": [
    {
     "name": "stdout",
     "output_type": "stream",
     "text": [
      "The validation error rate is 0.3333333333333333\n",
      "\n"
     ]
    }
   ],
   "source": [
    "# data = load_wine()\n",
    "output_file = 'knn_output.txt'\n",
    "# Compute distance matrix\n",
    "Xtrain, ytrain, Xval, yval, Xtest, ytest = data_processing(wine_data)\n",
    "\n",
    "dists = compute_l2_distances(Xtrain, Xval)\n",
    "\n",
    "# Compute validation accuracy when k=4\n",
    "k = 4\n",
    "ypred = predict_labels(k, ytrain, dists)\n",
    "err = compute_error_rate(yval, ypred)\n",
    "print(\"The validation error rate is\", err)\n",
    "print()"
   ]
  },
  {
   "cell_type": "markdown",
   "metadata": {
    "id": "rTb9DnFXF1Et"
   },
   "source": [
    "###  Now we re-calculated using data transformations (1) Normalization and (2) Min-max scaling"
   ]
  },
  {
   "cell_type": "code",
   "execution_count": 97,
   "metadata": {
    "colab": {
     "base_uri": "https://localhost:8080/"
    },
    "id": "LTSHk_7YF1Et",
    "outputId": "2afe18dc-f9cc-4322-c43b-90f2c04abba8"
   },
   "outputs": [
    {
     "name": "stdout",
     "output_type": "stream",
     "text": [
      "The validation error rate is 0.2222222222222222 when using normalization\n",
      "\n",
      "The validation error rate is 0.05555555555555555 when using minmax_scaling\n",
      "\n"
     ]
    }
   ],
   "source": [
    "#(1) With normalization \n",
    "# Compute distance matrix\n",
    "Xtrain, ytrain, Xval, yval, Xtest, ytest = data_processing_with_transformation(wine_data, do_minmax_scaling=False, do_normalization=True)\n",
    "\n",
    "dists = compute_l2_distances(Xtrain, Xval)\n",
    "\n",
    "# Compute validation accuracy when k=4\n",
    "k = 4\n",
    "ypred = predict_labels(k, ytrain, dists)\n",
    "err = compute_error_rate(yval, ypred)\n",
    "print(\"The validation error rate is\", err, \"when using normalization\")\n",
    "print()\n",
    "\n",
    "#(2) With min-max scaling\n",
    "# Compute distance matrix\n",
    "Xtrain, ytrain, Xval, yval, Xtest, ytest = data_processing_with_transformation(wine_data, do_minmax_scaling=True, do_normalization=False)\n",
    "\n",
    "dists = compute_l2_distances(Xtrain, Xval)\n",
    "\n",
    "# Compute validation accuracy when k=4\n",
    "k = 4\n",
    "ypred = predict_labels(k, ytrain, dists)\n",
    "err = compute_error_rate(yval, ypred)\n",
    "print(\"The validation error rate is\", err, \"when using minmax_scaling\")\n",
    "print()\n",
    "\n"
   ]
  },
  {
   "cell_type": "markdown",
   "metadata": {
    "id": "lTk5N5aTF1Eu"
   },
   "source": [
    "### Now, instead of L2 distance, we will use Cosine distance for our 4 nearest neighbor classifier. "
   ]
  },
  {
   "cell_type": "code",
   "execution_count": 98,
   "metadata": {
    "colab": {
     "base_uri": "https://localhost:8080/"
    },
    "id": "XToosrIoF1Eu",
    "outputId": "9d4f7275-b839-4e72-dec0-385de7a53e5a"
   },
   "outputs": [
    {
     "name": "stdout",
     "output_type": "stream",
     "text": [
      "The validation error rate is 0.5  using cosine distance\n",
      "\n"
     ]
    }
   ],
   "source": [
    "# Compute distance matrix using Cosine distance\n",
    "Xtrain, ytrain, Xval, yval, Xtest, ytest = data_processing(wine_data)\n",
    "dists = compute_cosine_distances(Xtrain, Xval)\n",
    "\n",
    "# Compute validation accuracy when k=4\n",
    "k = 4\n",
    "ypred = predict_labels(k, ytrain, dists)\n",
    "err = compute_error_rate(yval, ypred)\n",
    "print(\"The validation error rate is\", err, \" using cosine distance\")\n",
    "print()\n",
    "\n",
    "#Transformation do no change the relative angle between data points\n",
    "# #(1) With normalization \n",
    "# # Compute distance matrix\n",
    "# Xtrain, ytrain, Xval, yval, Xtest, ytest = data_processing_with_transformation(data, do_minmax_scaling=False, do_normalization=True)\n",
    "\n",
    "# dists = compute_cosine_distances(Xtrain, Xval)\n",
    "\n",
    "# # Compute validation accuracy when k=4\n",
    "# k = 4\n",
    "# ypred = predict_labels(k, ytrain, dists)\n",
    "# err = compute_error_rate(yval, ypred)\n",
    "# print(\"The validation error rate is\", err, \"when using normalization and using cosine distance\")\n",
    "# print()\n",
    "\n",
    "# #(2) With min-max scaling\n",
    "# # Compute distance matrix\n",
    "# Xtrain, ytrain, Xval, yval, Xtest, ytest = data_processing_with_transformation(data, do_minmax_scaling=True, do_normalization=False)\n",
    "\n",
    "# dists = compute_cosine_distances(Xtrain, Xval)\n",
    "\n",
    "# # Compute validation accuracy when k=4\n",
    "# k = 4\n",
    "# ypred = predict_labels(k, ytrain, dists)\n",
    "# err = compute_error_rate(yval, ypred)\n",
    "# print(\"The validation error rate is\", err, \"when using minmax_scaling and using cosine distance\")\n",
    "# print()"
   ]
  },
  {
   "cell_type": "markdown",
   "metadata": {
    "id": "SmaQkBstF1Ev"
   },
   "source": [
    "### Hyper-parameter tuning: we tune the number of nearest neighbors k that can vote on the validation set"
   ]
  },
  {
   "cell_type": "code",
   "execution_count": 99,
   "metadata": {
    "colab": {
     "base_uri": "https://localhost:8080/"
    },
    "id": "_DLsGWGUF1Ev",
    "outputId": "a83b65ba-3e93-41ff-92a1-3b427ed576bf"
   },
   "outputs": [],
   "source": [
    "# Compute distance matrix\n",
    "Xtrain, ytrain, Xval, yval, Xtest, ytest = data_processing(wine_data)\n",
    "\n",
    "#======performance of different k in training set=====\n",
    "#use only odd number k to make sure there are no ties\n",
    "K = [1, 3, 5, 7, 9, 11, 13, 15, 17, 19,21,23,25,27,29,31,33,35,37]\n",
    "\n",
    "dists = compute_l2_distances(Xtrain, Xtrain)\n",
    "best_k, training_error, best_err = find_best_k(K, ytrain, dists, ytrain)\n",
    "\n",
    "#==========select best k using validation set==============\n",
    "dists = compute_l2_distances(Xtrain, Xval)\n",
    "best_k, validation_error, best_err = find_best_k(K, ytrain, dists, yval)\n",
    "\n",
    "#===============test the performance with the best k=============\n",
    "dists = compute_l2_distances(Xtrain, Xtest)\n",
    "best_k, test_error, best_err = find_best_k(K, ytrain, dists, ytest)"
   ]
  },
  {
   "cell_type": "code",
   "execution_count": 100,
   "metadata": {
    "colab": {
     "base_uri": "https://localhost:8080/",
     "height": 823
    },
    "id": "9nYpTRU_F1Ew",
    "outputId": "a9f4b00b-48c8-443b-d5ef-56cab4a3409a"
   },
   "outputs": [
    {
     "data": {
      "image/png": "[encoded data removed]",
      "text/plain": [
       "<Figure size 720x288 with 1 Axes>"
      ]
     },
     "metadata": {
      "needs_background": "light"
     },
     "output_type": "display_data"
    },
    {
     "data": {
      "image/png": "[encoded data removed]",
      "text/plain": [
       "<Figure size 720x288 with 1 Axes>"
      ]
     },
     "metadata": {
      "needs_background": "light"
     },
     "output_type": "display_data"
    },
    {
     "data": {
      "image/png": "[encoded data removed]",
      "text/plain": [
       "<Figure size 720x288 with 1 Axes>"
      ]
     },
     "metadata": {
      "needs_background": "light"
     },
     "output_type": "display_data"
    }
   ],
   "source": [
    "#====================Plot performance===================\n",
    "plt.figure(figsize=(10,4))\n",
    "plt.scatter(K, test_error, color='red', label = 'Error Rates')\n",
    "plt.ylabel('Error', fontsize = 14)\n",
    "plt.xlabel('K Values', fontsize = 14)\n",
    "plt.title('K Values VS Error on Test Set', fontsize = 18)\n",
    "plt.xticks(K)\n",
    "plt.legend()\n",
    "plt.grid()\n",
    "plt.savefig(\"Error_Rate_On_Test_Set.png\")\n",
    "plt.figure(figsize=(10,4))\n",
    "plt.scatter(K, validation_error, color='red', label = 'Error Rates')\n",
    "plt.ylabel('Error', fontsize = 14)\n",
    "plt.xlabel('K Values', fontsize = 14)\n",
    "plt.title('K Values VS Error on Validation Set', fontsize = 18)\n",
    "plt.xticks(K)\n",
    "plt.legend()\n",
    "plt.grid()\n",
    "plt.savefig(\"Error_Rate_On_Validation_Set.png\")\n",
    "plt.figure(figsize=(10,4))\n",
    "plt.scatter(K, training_error, color='red', label = 'Error Rates')\n",
    "plt.ylabel('Error', fontsize = 14)\n",
    "plt.xlabel('K Values', fontsize = 14)\n",
    "plt.title('K Values VS Error on Training Set', fontsize = 18)\n",
    "plt.xticks(K)\n",
    "plt.legend()\n",
    "plt.grid()\n",
    "plt.savefig(\"Error_Rate_On_Training_Set.png\")"
   ]
  },
  {
   "cell_type": "code",
   "execution_count": 101,
   "metadata": {},
   "outputs": [
    {
     "name": "stdout",
     "output_type": "stream",
     "text": [
      "We use the best k = 3 with the best validation error rate 0.2777777777777778\n",
      "Using the best k, the final test error rate is 0.16666666666666666\n"
     ]
    }
   ],
   "source": [
    "dists = compute_l2_distances(Xtrain, Xval)\n",
    "best_k, validation_error, best_err = find_best_k(K, ytrain, dists, yval)\n",
    "dists = compute_l2_distances(Xtrain, Xtest)\n",
    "ypred = predict_labels(best_k, ytrain, dists)\n",
    "test_err = compute_error_rate(ytest, ypred)\n",
    "print(\"We use the best k =\",best_k, \"with the best validation error rate\", best_err)\n",
    "print(\"Using the best k, the final test error rate is\", test_err)\n",
    "\n",
    "f=open(output_file, 'w')\n",
    "for i in range(len(K)):\n",
    "    f.write('%d %.3f' % (K[i], validation_error[i])+'\\n')\n",
    "f.write('%s %.3f' % ('test', test_err))\n",
    "f.close()"
   ]
  },
  {
   "cell_type": "markdown",
   "metadata": {},
   "source": [
    "**Analysis & Conclusions**: \n",
    "1. Training error becomes approximately constant as we consider more votes. This is to be expected since when you increase the value of k, you are considering more neighbors for each prediction. As k becomes larger, the decision boundary becomes smoother, and the model tends to be less sensitive to individual data points in the training set. This smoothing effect leads to a more generalized model that might not perfectly fit the training data but performs better on new, unseen data. In extreme cases, when k is equal to the total number of training samples (k = n, where n is the number of training samples), the training error will be minimized and might be equal to zero if the decision boundaries capture all the training data points. However, using such a large k could lead to over-smoothing and poor performance on test data, as the model may lose the ability to capture local patterns and relationships within the data.\n",
    "\n",
    "2. Validation error oscillates between min and max values and then is constant at min values at large k. We choose k which minimizes the validation error. Here we have multiple k values that minimize the validation error (k=3,5,11,13,17 and beyond. We may ask what is the trade off of using a smaller k over a larger k if they give the same validation error. \n",
    "\n",
    "Tradeoffs of using smaller k over larger k\n",
    "\n",
    "Simplicity: A smaller value of k leads to a simpler model, which is easier to interpret and less prone to overfitting. Simplicity can also improve the model's generalization to new, unseen data.\n",
    "\n",
    "Computational Efficiency: Smaller k values generally require less computational resources since the algorithm needs to consider fewer neighbors during prediction. This can be crucial in scenarios with large datasets or real-time applications.\n",
    "\n",
    "Robustness: Smaller k values tend to be more robust to noisy data because they rely on a smaller number of neighbors for predictions. Larger k values can be influenced by more distant neighbors, which might introduce noise in the predictions.\n",
    "\n",
    "However, it's essential to consider the trade-off between bias and variance. Smaller k values might lead to high variance, meaning the model can be sensitive to the specific training data and can vary significantly with different training sets. On the other hand, larger k values can lead to high bias, resulting in a model that is too simplistic and underfits the data.\n",
    "\n",
    "3. Test error: this is just for observation. We should never hypertune parameters on the test set as it will lead to overfitting on newer data.\n",
    "\n",
    "4. We chose k=3, even though it gave the same validation error as larger values of k, due to leading to a simpler more robust model"
   ]
  },
  {
   "cell_type": "markdown",
   "metadata": {
    "id": "qTorIDyxp9PA"
   },
   "source": [
    "# Decision Tree Classification"
   ]
  },
  {
   "cell_type": "markdown",
   "metadata": {
    "id": "6FmlIiAi__u1"
   },
   "source": [
    "**Importing all the required libraries.**"
   ]
  },
  {
   "cell_type": "code",
   "execution_count": 102,
   "metadata": {
    "id": "2CQFMu_co3uB"
   },
   "outputs": [],
   "source": [
    "# Libraries for data analysis\n",
    "import numpy as np # For large multi-dimensional array and matrix processing\n",
    "import pandas as pd # For data extraction and preparation\n",
    "\n",
    "#The sklearn.tree module includes decision tree-based models for classification and regression.\n",
    "from sklearn import tree\n",
    "from sklearn.tree import DecisionTreeClassifier\n",
    "\n",
    "# Libraries for displaying results and analysis\n",
    "from sklearn.model_selection import train_test_split\n",
    "from sklearn.metrics import confusion_matrix, accuracy_score, ConfusionMatrixDisplay\n",
    "\n",
    "# for hyperparameter tuning\n",
    "from sklearn.model_selection import GridSearchCV"
   ]
  },
  {
   "cell_type": "markdown",
   "metadata": {},
   "source": [
    "**Hyperparameter tuning decision tree function**"
   ]
  },
  {
   "cell_type": "code",
   "execution_count": 103,
   "metadata": {},
   "outputs": [],
   "source": [
    "def tune_decision_tree(X_train, y_train, param_grid, cv=5):\n",
    "    \"\"\"\n",
    "    Perform hyperparameter tuning for a decision tree classifier using GridSearchCV.\n",
    "\n",
    "    Parameters:\n",
    "        X_train (array-like): Training data features.\n",
    "        y_train (array-like): Training data labels.\n",
    "        param_grid (dict): Dictionary containing hyperparameters and their possible values.\n",
    "        cv (int, optional): Number of cross-validation folds. Default is 5.\n",
    "\n",
    "    Returns:\n",
    "        best_dt_model (DecisionTreeClassifier): The best decision tree model fitted on the training data.\n",
    "        best_params (dict): A dictionary containing the best hyperparameters found by GridSearchCV.\n",
    "        best_accuracy (float): The accuracy achieved by the best model on the validation data.\n",
    "    \"\"\"\n",
    "    # Create a decision tree classifier\n",
    "    dt_classifier = DecisionTreeClassifier()\n",
    "\n",
    "    # Perform grid search using cross-validation\n",
    "    grid_search = GridSearchCV(dt_classifier, param_grid, cv=cv)\n",
    "    grid_search.fit(X_train, y_train)\n",
    "\n",
    "    # Get the best decision tree model from the grid search\n",
    "    best_dt_model = grid_search.best_estimator_\n",
    "\n",
    "    # Get the best hyperparameters and corresponding accuracy\n",
    "    best_params = grid_search.best_params_\n",
    "    best_accuracy = grid_search.best_score_\n",
    "\n",
    "    # Print the best hyperparameters and accuracy\n",
    "    print(\"Best Hyperparameters:\", best_params)\n",
    "    print(\"Best Accuracy:\", best_accuracy)\n",
    "\n",
    "    return best_dt_model, best_params, best_accuracy\n",
    "\n"
   ]
  },
  {
   "cell_type": "markdown",
   "metadata": {
    "id": "qOK9ShfyBbD0"
   },
   "source": [
    "**Split the Dataset**"
   ]
  },
  {
   "cell_type": "code",
   "execution_count": 104,
   "metadata": {
    "colab": {
     "base_uri": "https://localhost:8080/"
    },
    "id": "Bk8v4pJ5vVEn",
    "outputId": "0567d7a7-3f55-4d46-a492-8cafee8566ea"
   },
   "outputs": [],
   "source": [
    "# X_train, y_train, X_val, y_val, X_test, y_test = data_processing(wine_data)\n",
    "\n",
    "# print(\"Size of training data= \", X_train.shape[0],\" Samples\")\n",
    "# print(\"Size of training data= \", X_val.shape[0],\" Samples\")\n",
    "# print(\"Size of testing data= \", X_test.shape[0],\" Samples\")\n",
    "\n",
    "# Assuming X_train and X_val are numpy arrays\n",
    "Xtrain = np.concatenate((Xtrain, Xval), axis=0)\n",
    "\n",
    "# Assuming y_train and y_val are numpy arrays\n",
    "ytrain = np.concatenate((ytrain, yval), axis=0)\n",
    "\n",
    "# Get a random permutation of indices for the combined data\n",
    "indices = np.random.permutation(len(Xtrain))\n",
    "\n",
    "# Use the indices to shuffle the combined data\n",
    "Xtrain = Xtrain[indices]\n",
    "ytrain = ytrain[indices]\n"
   ]
  },
  {
   "cell_type": "markdown",
   "metadata": {
    "id": "LPip_B47Dza3"
   },
   "source": [
    "**Fit model to training data**"
   ]
  },
  {
   "cell_type": "code",
   "execution_count": 105,
   "metadata": {
    "colab": {
     "base_uri": "https://localhost:8080/"
    },
    "id": "zrwrOMlj0Nkw",
    "outputId": "33791c64-7739-46bc-b034-a577669cf865"
   },
   "outputs": [
    {
     "name": "stdout",
     "output_type": "stream",
     "text": [
      "Best Hyperparameters: {'criterion': 'entropy', 'max_depth': 5, 'max_features': 10, 'min_samples_leaf': 1, 'min_samples_split': 20, 'splitter': 'best'}\n",
      "Best Accuracy: 0.96875\n",
      "Simple Visualization of the tree you created:\n",
      "|--- flavanoids <= 1.58\n",
      "|   |--- color_intensity <= 3.82\n",
      "|   |   |--- class: 1\n",
      "|   |--- color_intensity >  3.82\n",
      "|   |   |--- class: 2\n",
      "|--- flavanoids >  1.58\n",
      "|   |--- proline <= 724.50\n",
      "|   |   |--- alcohol <= 13.17\n",
      "|   |   |   |--- class: 1\n",
      "|   |   |--- alcohol >  13.17\n",
      "|   |   |   |--- class: 1\n",
      "|   |--- proline >  724.50\n",
      "|   |   |--- color_intensity <= 3.46\n",
      "|   |   |   |--- class: 1\n",
      "|   |   |--- color_intensity >  3.46\n",
      "|   |   |   |--- class: 0\n",
      "\n"
     ]
    }
   ],
   "source": [
    "# Define the hyperparameter grid with even more values\n",
    "param_grid = {\n",
    "    'max_depth': [None, 3, 5, 10, 20, 50],\n",
    "    'min_samples_split': [2, 5, 10, 20, 50],\n",
    "    'min_samples_leaf': [1, 3, 5, 10, 20],\n",
    "    'max_features': [None, 5, 10, 13, 'sqrt', 'log2'],\n",
    "    'splitter': ['best', 'random'],\n",
    "    'criterion': ['gini', 'entropy']\n",
    "}\n",
    "\n",
    "# Call the tune_decision_tree function\n",
    "decision_tree, best_params, best_accuracy = tune_decision_tree(Xtrain, ytrain, param_grid)\n",
    "\n",
    "print(\"Simple Visualization of the tree you created:\")\n",
    "print(tree.export_text(decision_tree, feature_names=wine_data.feature_names))\n"
   ]
  },
  {
   "cell_type": "markdown",
   "metadata": {
    "id": "gmAT6f-qFSSF"
   },
   "source": [
    "**Testing the model**"
   ]
  },
  {
   "cell_type": "code",
   "execution_count": 106,
   "metadata": {
    "id": "HoXj0eqZDv-F"
   },
   "outputs": [],
   "source": [
    "ypred = None\n",
    "ypred = decision_tree.predict(Xtest)"
   ]
  },
  {
   "cell_type": "markdown",
   "metadata": {
    "id": "ux7n7XZJF9VY"
   },
   "source": [
    "**Visualize the Results**"
   ]
  },
  {
   "cell_type": "code",
   "execution_count": 107,
   "metadata": {
    "colab": {
     "base_uri": "https://localhost:8080/",
     "height": 468
    },
    "id": "CSXyi0iYwuy6",
    "outputId": "62121b4a-ecf6-45fd-8a13-d62b8ef5f335"
   },
   "outputs": [
    {
     "name": "stdout",
     "output_type": "stream",
     "text": [
      "Accuracy of our model is equal to 94.44 %.\n"
     ]
    },
    {
     "data": {
      "image/png": "[encoded data removed]",
      "text/plain": [
       "<Figure size 432x288 with 2 Axes>"
      ]
     },
     "metadata": {
      "needs_background": "light"
     },
     "output_type": "display_data"
    }
   ],
   "source": [
    "## Make sure to save your accuracy in the variable \"acc\"\n",
    "acc = 0\n",
    "# Calculate the confusion matrix\n",
    "cmatrix = confusion_matrix(ytest, ypred)\n",
    "\n",
    "# Plot the confusion matrix\n",
    "cmplot = ConfusionMatrixDisplay(confusion_matrix=cmatrix, display_labels=wine_data.target_names)\n",
    "cmplot.plot()\n",
    "\n",
    "# Calculate the accuracy\n",
    "acc = accuracy_score(ytest, ypred) * 100\n",
    "# Make sure you plot the confusion matrix, i.e. once this code cell is run, it should output a 3X3 confusion matrix and accuracy #\n",
    "print('Accuracy of our model is equal to ' + str(round(acc, 2)) + ' %.')"
   ]
  },
  {
   "cell_type": "markdown",
   "metadata": {},
   "source": [
    "# KNN with cross-validation"
   ]
  },
  {
   "cell_type": "code",
   "execution_count": 108,
   "metadata": {},
   "outputs": [
    {
     "name": "stdout",
     "output_type": "stream",
     "text": [
      "K=1, Average Accuracy: 0.712500, Standard Deviation: 0.087052\n",
      "K=3, Average Accuracy: 0.700000, Standard Deviation: 0.075519\n",
      "K=5, Average Accuracy: 0.693750, Standard Deviation: 0.105327\n",
      "K=7, Average Accuracy: 0.687500, Standard Deviation: 0.065551\n",
      "K=9, Average Accuracy: 0.681250, Standard Deviation: 0.060596\n",
      "K=11, Average Accuracy: 0.700000, Standard Deviation: 0.057960\n",
      "K=13, Average Accuracy: 0.718750, Standard Deviation: 0.055902\n",
      "K=15, Average Accuracy: 0.725000, Standard Deviation: 0.045928\n",
      "K=17, Average Accuracy: 0.737500, Standard Deviation: 0.050775\n",
      "K=19, Average Accuracy: 0.712500, Standard Deviation: 0.036443\n",
      "K=21, Average Accuracy: 0.706250, Standard Deviation: 0.037500\n",
      "K=23, Average Accuracy: 0.706250, Standard Deviation: 0.050775\n",
      "K=25, Average Accuracy: 0.706250, Standard Deviation: 0.050775\n",
      "K=27, Average Accuracy: 0.700000, Standard Deviation: 0.031869\n",
      "K=29, Average Accuracy: 0.706250, Standard Deviation: 0.037500\n",
      "K=31, Average Accuracy: 0.687500, Standard Deviation: 0.039528\n",
      "K=33, Average Accuracy: 0.700000, Standard Deviation: 0.042390\n",
      "K=35, Average Accuracy: 0.693750, Standard Deviation: 0.036443\n",
      "K=37, Average Accuracy: 0.681250, Standard Deviation: 0.036443\n",
      "K=39, Average Accuracy: 0.675000, Standard Deviation: 0.025000\n",
      "K=41, Average Accuracy: 0.687500, Standard Deviation: 0.039528\n",
      "K=43, Average Accuracy: 0.681250, Standard Deviation: 0.036443\n",
      "K=45, Average Accuracy: 0.693750, Standard Deviation: 0.050000\n",
      "K=47, Average Accuracy: 0.687500, Standard Deviation: 0.044194\n",
      "K=49, Average Accuracy: 0.700000, Standard Deviation: 0.031869\n",
      "K=51, Average Accuracy: 0.700000, Standard Deviation: 0.042390\n",
      "K=53, Average Accuracy: 0.706250, Standard Deviation: 0.031869\n",
      "K=55, Average Accuracy: 0.706250, Standard Deviation: 0.015309\n",
      "K=57, Average Accuracy: 0.693750, Standard Deviation: 0.030619\n",
      "K=59, Average Accuracy: 0.681250, Standard Deviation: 0.036443\n",
      "K=61, Average Accuracy: 0.687500, Standard Deviation: 0.034233\n",
      "Best K=17, Best Average Accuracy: 0.737500\n"
     ]
    },
    {
     "data": {
      "image/png": "[encoded data removed]",
      "text/plain": [
       "<Figure size 720x288 with 1 Axes>"
      ]
     },
     "metadata": {
      "needs_background": "light"
     },
     "output_type": "display_data"
    }
   ],
   "source": [
    "from sklearn.neighbors import KNeighborsClassifier\n",
    "from sklearn.model_selection import cross_val_score\n",
    "# Define the values of k for KNN\n",
    "k_values = [1, 3, 5, 7, 9, 11, 13, 15, 17, 19, 21, 23, 25, 27, 29, 31,33,35,37,39,41,43,45,47,49,51,53,55,57,59,61]\n",
    "best_k = None\n",
    "best_accuracy = 0\n",
    "# Perform cross-validation for each value of k\n",
    "mean_errors = []\n",
    "for k in k_values:\n",
    "    knn = KNeighborsClassifier(n_neighbors=k)\n",
    "    scores = cross_val_score(knn, Xtrain, ytrain, cv=5)\n",
    "    avg_score = np.mean(scores)\n",
    "    mean_errors.append(1-avg_score)\n",
    "    std_score = np.std(scores)\n",
    "    print(f\"K={k}, Average Accuracy: {avg_score:f}, Standard Deviation: {std_score:f}\")\n",
    "    # Check if the current k gives a better accuracy\n",
    "    if avg_score > best_accuracy:\n",
    "        best_k = k\n",
    "        best_accuracy = avg_score\n",
    "        \n",
    "print(f\"Best K={best_k}, Best Average Accuracy: {best_accuracy:f}\")\n",
    "\n",
    "plt.figure(figsize=(10,4))\n",
    "plt.scatter(k_values, mean_errors, color='red', label = 'Error Rates')\n",
    "plt.ylabel('Error', fontsize = 14)\n",
    "plt.xlabel('K Values', fontsize = 14)\n",
    "plt.title('K Values VS Error on Cross-Validation Set', fontsize = 18)\n",
    "plt.xticks(K)\n",
    "plt.legend()\n",
    "plt.grid()\n",
    "plt.savefig(\"Error_Rate_On_Validation_Set.png\")"
   ]
  },
  {
   "cell_type": "code",
   "execution_count": 114,
   "metadata": {},
   "outputs": [
    {
     "name": "stdout",
     "output_type": "stream",
     "text": [
      "Accuracy on Test Data: 0.777778\n"
     ]
    }
   ],
   "source": [
    "# Train the KNN model with the best k value using the entire training dataset\n",
    "knn = KNeighborsClassifier(n_neighbors=best_k)\n",
    "knn.fit(Xtrain, ytrain)\n",
    "\n",
    "# Predict the labels for the test dataset\n",
    "ypred = knn.predict(Xtest)\n",
    "\n",
    "# Evaluate the accuracy of the model on the test dataset\n",
    "accuracy = np.mean(ypred == ytest)\n",
    "print(f\"Accuracy on Test Data: {accuracy:f}\")"
   ]
  }
 ],
 "metadata": {
  "colab": {
   "provenance": []
  },
  "kernelspec": {
   "display_name": "Python 3",
   "language": "python",
   "name": "python3"
  },
  "language_info": {
   "codemirror_mode": {
    "name": "ipython",
    "version": 3
   },
   "file_extension": ".py",
   "mimetype": "text/x-python",
   "name": "python",
   "nbconvert_exporter": "python",
   "pygments_lexer": "ipython3",
   "version": "3.8.8"
  }
 },
 "nbformat": 4,
 "nbformat_minor": 4
}
